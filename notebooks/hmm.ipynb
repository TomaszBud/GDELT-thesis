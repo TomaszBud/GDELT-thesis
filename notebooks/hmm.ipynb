{
 "cells": [
  {
   "cell_type": "code",
   "execution_count": 2,
   "metadata": {},
   "outputs": [],
   "source": [
    "import numpy as np\n",
    "import pandas as pd\n",
    "from hmmlearn import hmm\n",
    "\n"
   ]
  },
  {
   "cell_type": "code",
   "execution_count": 4,
   "metadata": {},
   "outputs": [
    {
     "name": "stdout",
     "output_type": "stream",
     "text": [
      "731154\n",
      "696577\n",
      "        Source  Target  CAMEOCode  NumEvents  NumArts  QuadClass  Goldstein  \\\n",
      "731149  USACVL     THA         40          1       20          1        1.0   \n",
      "731150  USAMED     THA         70          1        2          2        7.0   \n",
      "731151  USAMED  THAMED         70          1        2          2        7.0   \n",
      "731152     USA     THA         61          3       15          2        6.4   \n",
      "731153     VNM     THA        160          1        2          4       -4.0   \n",
      "\n",
      "        SourceGeoType  SourceGeoLat  SourceGeoLong  TargetGeoType  \\\n",
      "731149            1.0       38.0000       -97.0000            4.0   \n",
      "731150            4.0       32.9049        35.8072            4.0   \n",
      "731151            4.0       13.7500       100.5170            4.0   \n",
      "731152            1.0       38.0000       -97.0000            1.0   \n",
      "731153            4.0       10.7500       106.6670            1.0   \n",
      "\n",
      "        TargetGeoLat  TargetGeoLong  ActionGeoType  ActionGeoLat  \\\n",
      "731149       25.0000        45.0000            4.0       25.0000   \n",
      "731150       32.9049        35.8072            4.0       32.9049   \n",
      "731151       13.7500       100.5170            4.0       13.7500   \n",
      "731152       38.0000       -97.0000            1.0       38.0000   \n",
      "731153        1.3667       103.8000            4.0       10.7500   \n",
      "\n",
      "        ActionGeoLong  Year  Month  Day  \n",
      "731149        45.0000  2014      2   17  \n",
      "731150        35.8072  2014      2   17  \n",
      "731151       100.5170  2014      2   17  \n",
      "731152       -97.0000  2014      2   17  \n",
      "731153       106.6670  2014      2   17  \n"
     ]
    }
   ],
   "source": [
    "# Step 1: Data Preprocessing\n",
    "data = pd.read_csv('../data/GDELT_THA.csv')\n",
    "print(len(data))\n",
    "data.dropna(inplace=True)\n",
    "print(len(data))\n",
    "# Convert string dates to datetime objects\n",
    "data['Date'] = pd.to_datetime(data['Date'], format='%Y%m%d')\n",
    "\n",
    "# Step: Encode Categorical Variables\n",
    "\n",
    "# Extract date components\n",
    "data['Year'] = data['Date'].dt.year\n",
    "data['Month'] = data['Date'].dt.month\n",
    "data['Day'] = data['Date'].dt.day\n",
    "\n",
    "data.drop(columns=['Date'], inplace=True)\n",
    "\n",
    "data['Source'] = data['Source'].astype('category')\n",
    "data['Target'] = data['Target'].astype('category')\n",
    "\n",
    "print(data.tail())\n",
    "\n"
   ]
  },
  {
   "cell_type": "code",
   "execution_count": null,
   "metadata": {},
   "outputs": [],
   "source": [
    "# Example how to initialize and train the HMM\n",
    "model = hmm.GaussianHMM(n_components=2)\n",
    "X = data[['Latitude', 'Longitude', 'Time']].values\n",
    "model.fit(X)\n",
    "\n",
    "# Step: Inference"
   ]
  }
 ],
 "metadata": {
  "kernelspec": {
   "display_name": "Python 3",
   "language": "python",
   "name": "python3"
  },
  "language_info": {
   "codemirror_mode": {
    "name": "ipython",
    "version": 3
   },
   "file_extension": ".py",
   "mimetype": "text/x-python",
   "name": "python",
   "nbconvert_exporter": "python",
   "pygments_lexer": "ipython3",
   "version": "3.10.9"
  }
 },
 "nbformat": 4,
 "nbformat_minor": 2
}
