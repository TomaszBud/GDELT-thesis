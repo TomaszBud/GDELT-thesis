{
 "cells": [
  {
   "cell_type": "code",
   "execution_count": 1,
   "metadata": {},
   "outputs": [],
   "source": [
    "import pandas as pd\n",
    "import numpy as np\n",
    "import csv\n",
    "from tqdm import tqdm"
   ]
  },
  {
   "cell_type": "code",
   "execution_count": 3,
   "metadata": {},
   "outputs": [
    {
     "name": "stdout",
     "output_type": "stream",
     "text": [
      "Date\tSource\tTarget\tCAMEOCode\tNumEvents\tNumArts\tQuadClass\tGoldstein\tSourceGeoType\tSourceGeoLat\tSourceGeoLong\tTargetGeoType\tTargetGeoLat\tTargetGeoLong\tActionGeoType\tActionGeoLat\tActionGeoLong\n",
      "19790101\tAFR\tFRA\t043\t1\t4\t1\t2.8\n",
      "19790101\tAFR\tFRA\t050\t2\t9\t1\t3.5\n",
      "19790101\tAFR\tFRAGOV\t043\t2\t19\t1\t2.8\t1\t46\t2\t1\t46\t2\t1\t46\t2\n",
      "19790101\tAFR\tZMB\t100\t2\t18\t3\t-5\n"
     ]
    }
   ],
   "source": [
    "def read_first_five_lines(file_path):\n",
    "    try:\n",
    "        with open(file_path, 'r') as file:\n",
    "            for i in range(5):\n",
    "                line = file.readline()\n",
    "                if not line:\n",
    "                    break\n",
    "                print(line.strip())\n",
    "    except FileNotFoundError:\n",
    "        print(\"File not found.\")\n",
    "    except Exception as e:\n",
    "        print(\"An error occurred:\", e)\n",
    "\n",
    "\n",
    "file_path = '../data/GDELT.MASTERREDUCEDV2.TXT'\n",
    "read_first_five_lines(file_path)"
   ]
  },
  {
   "cell_type": "code",
   "execution_count": 5,
   "metadata": {},
   "outputs": [],
   "source": [
    "\n",
    "\n",
    "def txt_to_csv(input_file, output_file):\n",
    "    with open(input_file, 'r') as infile:\n",
    "        with open(output_file, 'w', newline='') as outfile:\n",
    "            reader = csv.reader(infile, delimiter='\\t')\n",
    "            writer = csv.writer(outfile)\n",
    "            for row in reader:\n",
    "                writer.writerow(row)\n",
    "\n",
    "input_file = '../data/GDELT.MASTERREDUCEDV2.TXT'\n",
    "output_file = '../data/GDELT_MERGED~.csv'\n",
    "txt_to_csv(input_file, output_file)"
   ]
  },
  {
   "cell_type": "code",
   "execution_count": null,
   "metadata": {},
   "outputs": [],
   "source": [
    "def find_use_of_conventional_mass_violence(csv_file):\n",
    "    df = pd.read_csv(csv_file)\n",
    "    print(\"done\")\n",
    "    filtered_values = df[df['CAMEOCode'].astype(str).str.startswith('20')]['CAMEOCode'].tolist()\n",
    "    return filtered_values\n",
    "\n",
    "csv_file = '../data/GDELT_MERGED.csv'\n",
    "result = find_use_of_conventional_mass_violence(csv_file)\n",
    "print(\"Values starting with '20' in CAMEOCode column:\", result)"
   ]
  },
  {
   "cell_type": "code",
   "execution_count": 2,
   "metadata": {},
   "outputs": [
    {
     "name": "stderr",
     "output_type": "stream",
     "text": [
      "Processing: 100%|██████████| 87298046/87298046 [03:12<00:00, 454381.28it/s]"
     ]
    },
    {
     "name": "stdout",
     "output_type": "stream",
     "text": [
      "Filtered data has been written to GDELT_THA.csv\n"
     ]
    },
    {
     "name": "stderr",
     "output_type": "stream",
     "text": [
      "\n"
     ]
    }
   ],
   "source": [
    "def filter_THA(input_file, output_file):\n",
    "    try:\n",
    "        with open(input_file, 'r', newline='') as infile:\n",
    "            with open(output_file, 'w', newline='') as outfile:\n",
    "                reader = csv.reader(infile)\n",
    "                writer = csv.writer(outfile)\n",
    "                header = next(reader)\n",
    "                writer.writerow(header)\n",
    "                num_rows = sum(1 for row in reader)\n",
    "                infile.seek(0)\n",
    "                next(reader)\n",
    "                for row in tqdm(reader, total=num_rows, desc=\"Processing\"):\n",
    "                    if row[1].startswith('THA') or row[2].startswith('THA'):\n",
    "                        writer.writerow(row)\n",
    "        print(\"Filtered data has been written to\", output_file)\n",
    "    except FileNotFoundError:\n",
    "        print(\"File not found.\")\n",
    "\n",
    "input_file = 'data/GDELT_MERGED.csv'\n",
    "output_file = '../data/GDELT_THA.csv'\n",
    "filter_THA(input_file, output_file)"
   ]
  },
  {
   "cell_type": "code",
   "execution_count": null,
   "metadata": {},
   "outputs": [],
   "source": []
  }
 ],
 "metadata": {
  "kernelspec": {
   "display_name": "Python 3",
   "language": "python",
   "name": "python3"
  },
  "language_info": {
   "codemirror_mode": {
    "name": "ipython",
    "version": 3
   },
   "file_extension": ".py",
   "mimetype": "text/x-python",
   "name": "python",
   "nbconvert_exporter": "python",
   "pygments_lexer": "ipython3",
   "version": "3.10.9"
  }
 },
 "nbformat": 4,
 "nbformat_minor": 2
}
